{
 "cells": [
  {
   "cell_type": "markdown",
   "id": "dba48621-2449-4f97-a8b8-a9d57a26cfbb",
   "metadata": {},
   "source": [
    "1.  [Please put your name here]\n",
    "2.  [Please put your PID here]\n",
    "3.  [Please put your @ucsd.edu email address here]"
   ]
  },
  {
   "cell_type": "markdown",
   "id": "f6a8d939-1a2a-449b-9273-6fb91ff280ff",
   "metadata": {
    "deletable": false,
    "tags": []
   },
   "source": [
    "<div style=\" font-size: 300% !important;\n",
    "    margin-top: 1.5em;\n",
    "    margin-bottom: 10px;\n",
    "    font-weight: bold;\n",
    "    line-height: 1.0;\n",
    "    text-align:center;\">\n",
    "\n",
    "#### CSE142 Assignment 2\n",
    "</div>"
   ]
  },
  {
   "cell_type": "markdown",
   "id": "1d058f9f-d457-4c7e-8918-e7217a0825fd",
   "metadata": {
    "deletable": false,
    "tags": []
   },
   "source": [
    "<div class=\"alert alert-block alert-success\">\n",
    "\n",
    "## Question 1\n",
    "    \n",
    "Consider the following matrix transpose code:\n",
    "\n",
    "\n",
    "<pre>\n",
    "int i, j ,k;\n",
    "double *A, *B, *C;\n",
    "A = (double *)malloc(sizeof(double)*N*N);\n",
    "B = (double *)malloc(sizeof(double)*N*N);\n",
    "init_data(A, N*N);\n",
    "\n",
    "// Being of the loop\n",
    "for(i = 0; i < N; i++)\n",
    "    for(j = 0; j < N; j++)\n",
    "              B[i*N+j] = A[j*N+i];\n",
    "// assume load A[j*N+i] and then store B[i*N+j] \n",
    "\n",
    "// End of the loop\n",
    "\n",
    "\n",
    "output_data(B, N*N);\n",
    "</pre>\n",
    "Assume that the starting address of array A is 0x20000, array B is 0x40000, and N = 128. Your program will be running on a machine using an NVIDIA Tegra X1 processor. This processor has a 32K, 4-way, 64-byte blocked L1 data cache in each core. This processor uses 64-bit memory addresses. Please answer the following questions:\n",
    "</div>"
   ]
  },
  {
   "cell_type": "markdown",
   "id": "9e7fb70f-779a-4ced-9a45-3e38f2edf13f",
   "metadata": {
    "deletable": false,
    "tags": []
   },
   "source": [
    "<div class=\"alert alert-block alert-success\">\n",
    "\n",
    "### 1.A. \n",
    "    \n",
    "For a given memory address, how many bits are considered as tag, index, and offset in the processor’s L1 cache?!\n",
    "</div>"
   ]
  },
  {
   "cell_type": "markdown",
   "id": "9272ac17-d2a3-40c9-a846-9ef0f9d413f6",
   "metadata": {},
   "source": [
    "Please type your answer here.\n",
    "<br>\n",
    "<br>\n",
    "<br>"
   ]
  },
  {
   "cell_type": "markdown",
   "id": "448971b8-1922-4ca9-b7db-4d104318b1f0",
   "metadata": {
    "deletable": false,
    "tags": []
   },
   "source": [
    "<div class=\"alert alert-block alert-success\">\n",
    "\n",
    "### 1.B. \n",
    "    \n",
    "Please estimate the cache miss rate of the code. You may assume the cache is write-back, write-allocate and use an LRU when replacing a block.\n",
    "</div>"
   ]
  },
  {
   "cell_type": "markdown",
   "id": "028f5165-9d0d-47c1-8d3e-0f5f02fc40ef",
   "metadata": {},
   "source": [
    "Please type your answer here.\n",
    "\n",
    "Hint: You may start by extending/completing the table\n",
    "\n",
    "\n",
    "\n",
    "| Array element | Memory Address | Tag     |  Index  | Hit/Miss|\n",
    "|---------------|----------------|---------|---------|---------|\n",
    "| A[0]          | 0x20000,       | fill me | fill me | fill me |\n",
    "| fill me       | fill me        | fill me | fill me | fill me |\n",
    "| fill me       | fill me        | fill me | fill me | fill me |\n",
    "| fill me       | fill me        | fill me | fill me | fill me |\n",
    "| fill me       | fill me        | fill me | fill me | fill me |\n",
    "| fill me       | fill me        | fill me | fill me | fill me |\n",
    "| fill me       | fill me        | fill me | fill me | fill me |\n",
    "\n",
    "<br>\n",
    "<br>\n",
    "<br>"
   ]
  },
  {
   "cell_type": "markdown",
   "id": "303de4d7-c8dc-4325-8364-5371f9622278",
   "metadata": {
    "deletable": false,
    "tags": []
   },
   "source": [
    "<div class=\"alert alert-block alert-success\">\n",
    "\n",
    "### 1.C. \n",
    "    \n",
    "Continued from the previous question, how many of the misses are compulsory misses? How many of them are conflict misses?\n",
    "</div>"
   ]
  },
  {
   "cell_type": "markdown",
   "id": "6568e11f-38e3-4b5f-96c1-1a655b0a1ef8",
   "metadata": {},
   "source": [
    "Please type your answer here.\n",
    "<br>\n",
    "<br>\n",
    "<br>"
   ]
  },
  {
   "cell_type": "markdown",
   "id": "cda65873-1012-4934-b1aa-251c8ef3a922",
   "metadata": {
    "deletable": false,
    "tags": []
   },
   "source": [
    "<div style=\"page-break-after: always;\"></div>\n",
    "<div class=\"alert alert-block alert-success\">\n",
    "\n",
    "## Question 2\n",
    "    \n",
    "You are building a system around a single-issue in-order processor running at 4 GHz and the processor has a base CPI of 1 if all memory accesses are hits. The only instructions that read or write data from memory are loads (20% of all instructions) and stores (5% of all instructions). The memory system for this computer is composed of a split L1 cache that has a 2 ns latency on hits. Both the I-cache and D-cache are direct mapped and hold 32KB each. You may assume the caches use write-allocate and write-back policies. The L1 I-cache has a 2% miss rate and the L1 D-cache has a 5% miss rate. Also, 50% of all blocks replaced from L1 D-cache are dirty. The 512KB write-back, unified L2 cache has an access time of 12ns. Of all memory references sent to the L2 cache in this system, 80% are satisfied without going to main memory. Also 25% of all blocks replaced are dirty. The main memory has an access latency of 25ns. What's the a erage CPI?\n",
    "</div>"
   ]
  },
  {
   "cell_type": "markdown",
   "id": "0c7d2609-d5cc-4822-8314-bb5fbe79f847",
   "metadata": {},
   "source": [
    "Please type your answer here."
   ]
  },
  {
   "cell_type": "code",
   "execution_count": null,
   "id": "a0de9d7e-bcfa-4f83-80fe-f971d791ebc0",
   "metadata": {},
   "outputs": [],
   "source": []
  }
 ],
 "metadata": {
  "kernelspec": {
   "display_name": "Python 3 (ipykernel)",
   "language": "python",
   "name": "python3"
  },
  "language_info": {
   "codemirror_mode": {
    "name": "ipython",
    "version": 3
   },
   "file_extension": ".py",
   "mimetype": "text/x-python",
   "name": "python",
   "nbconvert_exporter": "python",
   "pygments_lexer": "ipython3",
   "version": "3.8.10"
  },
  "widgets": {
   "application/vnd.jupyter.widget-state+json": {
    "state": {},
    "version_major": 2,
    "version_minor": 0
   }
  }
 },
 "nbformat": 4,
 "nbformat_minor": 5
}
